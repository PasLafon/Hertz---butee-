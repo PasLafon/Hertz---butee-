{
 "cells": [
  {
   "cell_type": "markdown",
   "metadata": {},
   "source": [
    "## TD TN12/20 : Butée - contact de Hertz"
   ]
  },
  {
   "cell_type": "markdown",
   "metadata": {},
   "source": [
    "<img src=\"FIg-TD-TN12-Hertz-Butee-Rouleaux.pdf\" width=\"70%\"/>"
   ]
  },
  {
   "cell_type": "markdown",
   "metadata": {},
   "source": [
    "### 1/ Pression linéique constante, actions de contact des bagues sur chaque rouleau :"
   ]
  },
  {
   "cell_type": "markdown",
   "metadata": {},
   "source": [
    "* $B_i$ : Bague inférieure\n",
    "* $B_s$ : Bague supérieure\n",
    "* $R_i$ : Rouleau $i$ \n",
    "\n",
    "PFD de $B_s$, en régime permanent (equil. stat. dyn.) :\n",
    "$$\n",
    "\\left\\lbrace\n",
    "\\begin{array}{c}\n",
    "\\vec{F}\\\\\n",
    "\\vec{0}\n",
    "\\end{array}\n",
    "\\right\\rbrace_{O} +\n",
    "\\sum_{i=1}^{i=Z}\n",
    "\\left\\lbrace\n",
    "\\begin{array}{c}\n",
    "\\vec{\\mathcal{Rc}}_{{R_i}\\to{B_s}}\\\\\n",
    "\\vec{OM_i}\\wedge\\vec{\\mathcal{Rc}}_{{R_i}\\to{B_s}}\n",
    "\\end{array}\n",
    "\\right\\rbrace_{O}\n",
    "=\n",
    "\\left\\lbrace\n",
    "\\begin{array}{c}\n",
    "\\vec{0}\\\\\n",
    "\\vec{0}\n",
    "\\end{array}\n",
    "\\right\\rbrace\n",
    "$$\n",
    "Avec $O$ un point de l'axe la bague, $M_i$ le centre de contact de chaque rouleau avec la bague supérieure et $\\vec{\\mathcal{Rc}}_{{R_i}\\to{B_s}}$ résultante de ces actions de contact."
   ]
  },
  {
   "cell_type": "markdown",
   "metadata": {},
   "source": [
    "PFD de $B_i$, en régime permanent (equil. stat. dyn.) :\n",
    "$$\n",
    "\\left\\lbrace\n",
    "\\begin{array}{c}\n",
    "-\\vec{F}\\\\\n",
    "\\vec{0}\n",
    "\\end{array}\n",
    "\\right\\rbrace_{O} +\n",
    "\\sum_{i=1}^{i=Z}\n",
    "\\left\\lbrace\n",
    "\\begin{array}{c}\n",
    "\\vec{\\mathcal{Rc}}_{{R_i}\\to{B_i}}\\\\\n",
    "\\vec{OP_i}\\wedge\\vec{\\mathcal{Rc}}_{{R_i}\\to{B_i}}\n",
    "\\end{array}\n",
    "\\right\\rbrace_{O}\n",
    "=\n",
    "\\left\\lbrace\n",
    "\\begin{array}{c}\n",
    "\\vec{0}\\\\\n",
    "\\vec{0}\n",
    "\\end{array}\n",
    "\\right\\rbrace\n",
    "$$\n",
    "Avec $O$ un point de l'axe la bague, $P_i$ le centre de contact de chaque rouleau avec la bague inférieure et $\\vec{\\mathcal{Rc}}_{{R_i}\\to{B_i}}$ résultante de ces actions de contact."
   ]
  },
  {
   "cell_type": "markdown",
   "metadata": {},
   "source": [
    "* Ces PFS peuvent s'écrire sans hypothèse particulière sur les bagues et les rouleaux\n",
    "* Si on supporte que la pression linéique de contact est la même sur CHAQUE rouleau alors on peut écrire :\n",
    "$$\\vec{F}=Z\\vec{\\mathcal{Rc}}_{{R_i}\\to{B_i}}=-Z\\vec{\\mathcal{Rc}}_{{R_i}\\to{B_s}}$$"
   ]
  },
  {
   "cell_type": "markdown",
   "metadata": {},
   "source": [
    "### 2/ Contrainte maximale de cisaillement sous la ligne de contact :"
   ]
  },
  {
   "cell_type": "markdown",
   "metadata": {},
   "source": [
    "<img src=\"Hertz-contraintes.pdf\" width=\"70%\"/>"
   ]
  },
  {
   "cell_type": "markdown",
   "metadata": {},
   "source": [
    "Avec :\n",
    "* $P_0$ pression maximale de contact et :\n",
    "$$P_0=\\frac{2P}{\\pi b}\\quad b=\\sqrt{2\\frac{PR^*}{\\pi E^*}}$$\n",
    "* $P$, pression linéique sur la \"ligne\" de contact, $R^*$ rayon de courbure \"moyen\" de la géometrie du contact, $E^*$ module d'young \"moyen\""
   ]
  },
  {
   "cell_type": "markdown",
   "metadata": {},
   "source": [
    "Ici : \n",
    "* $P = \\dfrac{F}{Zl}=\\dfrac{C_0}{Zl}$\n",
    "* $E^*=\\dfrac{E}{2(1-\\nu^2)}$\n",
    "* $R^*=d_w$"
   ]
  },
  {
   "cell_type": "code",
   "execution_count": 132,
   "metadata": {},
   "outputs": [],
   "source": [
    "import numpy as np\n",
    "Z = 21\n",
    "E = 210000\n",
    "nu = 0.3\n",
    "dw = 6\n",
    "l = 8\n",
    "C0 = 153000\n",
    "C = 45000\n",
    "Pu = 15300\n",
    "Rm = dw\n",
    "Em = E/(2*(1-nu**2))\n",
    "P = (C0/(Z*l))"
   ]
  },
  {
   "cell_type": "code",
   "execution_count": 133,
   "metadata": {},
   "outputs": [
    {
     "name": "stdout",
     "output_type": "stream",
     "text": [
      "b= 0.174 mm\n"
     ]
    }
   ],
   "source": [
    "b = ((2*P*Rm)/(np.pi*Em))**0.5\n",
    "print(\"b= %.3f mm\"%b)"
   ]
  },
  {
   "cell_type": "code",
   "execution_count": 134,
   "metadata": {},
   "outputs": [
    {
     "name": "stdout",
     "output_type": "stream",
     "text": [
      "P0=3339 MPa\n"
     ]
    }
   ],
   "source": [
    "P0 = 2*P/(np.pi*b)\n",
    "print(\"P0=%.f MPa\"%P0)"
   ]
  },
  {
   "cell_type": "code",
   "execution_count": 135,
   "metadata": {},
   "outputs": [
    {
     "name": "stdout",
     "output_type": "stream",
     "text": [
      "Tau_max=1002 MPa\n"
     ]
    }
   ],
   "source": [
    "Tau_max = 0.3*P0\n",
    "print(\"Tau_max=%.f MPa\"%Tau_max)"
   ]
  },
  {
   "cell_type": "markdown",
   "metadata": {},
   "source": [
    "### 3/ Profondeur de fissuration due aux passages des rouleaux :"
   ]
  },
  {
   "cell_type": "markdown",
   "metadata": {},
   "source": [
    "Dans ce cas on prendra la charge à la limite d'endurance $P_u$, charge à partie de laquelle la fatigue peut apparaître :\n",
    "$$P=\\frac{P_u}{Zl}$$\n",
    "Il faut recalculer $b$ :"
   ]
  },
  {
   "cell_type": "code",
   "execution_count": 136,
   "metadata": {},
   "outputs": [
    {
     "name": "stdout",
     "output_type": "stream",
     "text": [
      "b= 0.055 mm\n"
     ]
    }
   ],
   "source": [
    "P = (Pu/(Z*l))\n",
    "b = ((2*P*Rm)/(np.pi*Em))**0.5\n",
    "print(\"b= %.3f mm\"%b)"
   ]
  },
  {
   "cell_type": "markdown",
   "metadata": {},
   "source": [
    "Graphique p 26 du cours, pour $e=b/a=0$, profondeur $\\simeq0.75b$"
   ]
  },
  {
   "cell_type": "code",
   "execution_count": 137,
   "metadata": {},
   "outputs": [
    {
     "name": "stdout",
     "output_type": "stream",
     "text": [
      "Profondeur= 0.041 mm\n"
     ]
    }
   ],
   "source": [
    "print(\"Profondeur= %.3f mm\"%(0.75*b))"
   ]
  },
  {
   "cell_type": "markdown",
   "metadata": {},
   "source": [
    "### 4/ Expression rapprochement entre les 2 bagues :"
   ]
  },
  {
   "cell_type": "markdown",
   "metadata": {},
   "source": [
    "On suppose que la charge est $F$.\n",
    "\n",
    "$$\\delta=3.78\\times10^{-5}\\frac{(Pl)^{0.9}}{l^{0.8}}$$\n",
    "\n",
    "Avec $P=\\frac{F}{Zl}$ :\n",
    "\n",
    "$$\\delta=3.78\\times10^{-5}\\frac{l^{0.1}}{Z^{0.9}}F^{0.9}$$"
   ]
  },
  {
   "cell_type": "markdown",
   "metadata": {},
   "source": [
    "Le rapprochement $\\delta$ c'est le déplacement bague inf/bague on a :\n",
    "$$u=K.F^n$$\n",
    "Avec :\n",
    "$$K=3.78\\times10^{-5}\\frac{l^{0.1}}{Z^{0.9}}\\quad n=0.9$$"
   ]
  },
  {
   "cell_type": "code",
   "execution_count": 247,
   "metadata": {},
   "outputs": [
    {
     "data": {
      "image/png": "[encoded data removed]",
      "text/plain": [
       "<Figure size 864x432 with 1 Axes>"
      ]
     },
     "metadata": {
      "needs_background": "light"
     },
     "output_type": "display_data"
    }
   ],
   "source": [
    "import matplotlib.pyplot as plt\n",
    "Kr = (3.78e-5*l**0.1)/(Z**0.9)\n",
    "F = np.linspace(0,C0,100)\n",
    "nr=0.9\n",
    "delta = Kr*(F**nr)\n",
    "plt.figure(figsize=(12,6))\n",
    "plt.plot(F,delta,'r-')\n",
    "plt.plot([F[0],F[-1]],[Kr*F[0]**n,Kr*F[-1]**nr],'b-',linewidth=0.5)\n",
    "plt.grid(\"on\")"
   ]
  },
  {
   "cell_type": "markdown",
   "metadata": {},
   "source": [
    "<img src=\"FIg-TD-TN12-Hertz-Butee-Billes.pdf\" width=\"70%\"/>"
   ]
  },
  {
   "cell_type": "markdown",
   "metadata": {},
   "source": [
    "### 6/ Actions de contact des bagues sur chaque bille :"
   ]
  },
  {
   "cell_type": "markdown",
   "metadata": {},
   "source": [
    "Même raisonnement que butée à rouleaux :\n",
    "$$\\vec{F}=Z\\vec{\\mathcal{Rc}}_{{R_i}\\to{B_i}}=-Z\\vec{\\mathcal{Rc}}_{{R_i}\\to{B_s}}$$"
   ]
  },
  {
   "cell_type": "markdown",
   "metadata": {},
   "source": [
    "### 7/ Contrainte maximale de cisaillement sous le point de contact :"
   ]
  },
  {
   "cell_type": "markdown",
   "metadata": {},
   "source": [
    "Contact bille / chemin de roulement -> contact sphère/tore interieur -> contact elliptique (à priori 4 rayons de courbures principaux).\n",
    "<img src=\"Hertz_contact_elliptique.pdf\" width=\"50%\"/>"
   ]
  },
  {
   "cell_type": "markdown",
   "metadata": {},
   "source": [
    "Ici : \n",
    "* $P = \\dfrac{F}{Z}=\\dfrac{C_0}{Z}$ ici $P\\to F$ dans les relations ci-dessus. \n",
    "* $E^*=\\dfrac{E}{2(1-\\nu^2)}$\n",
    "* $\\dfrac{1}{R^*}=\\dfrac{1}{2}\\left(\\dfrac{1}{R_1}+\\dfrac{1}{R_1'}\\right)+ \\dfrac{1}{2}\\left(\\dfrac{1}{R_2}+\\dfrac{1}{R_2'}\\right)=\\dfrac{1}{2}\\left(\\dfrac{2}{d_w}+\\dfrac{2}{d_w}\\right)+\\dfrac{1}{2}\\left(\\dfrac{1}{r_1}\\right)=\\dfrac{1}{d_w} + \\dfrac{1}{2r_1}$"
   ]
  },
  {
   "cell_type": "code",
   "execution_count": 239,
   "metadata": {},
   "outputs": [
    {
     "name": "stdout",
     "output_type": "stream",
     "text": [
      "Rm= 3.577mm  Em=115384.615MPa\n",
      "P = 3159N\n"
     ]
    }
   ],
   "source": [
    "E  = 210000\n",
    "nu = 0.3\n",
    "\n",
    "Z  = 22\n",
    "dw,r1 = 7.15,3.58\n",
    "\n",
    "C0 = 69500\n",
    "C  = 26500\n",
    "Pu = 2550\n",
    "\n",
    "P  = C0/Z\n",
    "Rm = 1/(1/dw + 1/(2*r1))\n",
    "Em = E/(2*(1-nu**2))\n",
    "print(\"Rm= %.3fmm  Em=%.3fMPa\"%(Rm,Em))\n",
    "print(\"P = %.fN\"%P)"
   ]
  },
  {
   "cell_type": "markdown",
   "metadata": {},
   "source": [
    "Géométrie du contact elliptique -> coefficient $n$ et $m$ page 22 du poly de cours -> calcul de l'angle $\\psi$\n",
    "$$\\cos\\psi=\\frac{\\sqrt{\\left(\\dfrac{1}{R_1}-\\dfrac{1}{R_1'}\\right)^2 + \\left(\\dfrac{1}{R_2}-\\dfrac{1}{R_2'}\\right)^2 + 2\\left(\\dfrac{1}{R_1}-\\dfrac{1}{R_1'}\\right)\\left(\\dfrac{1}{R_2}-\\dfrac{1}{R_2'}\\right)\\cos\\phi}}{\\dfrac{1}{R_1}+\\dfrac{1}{R_1'}+\\dfrac{1}{R_2}+\\dfrac{1}{R_2'}}=\\frac{ \\sqrt{\\left(\\dfrac{1}{r_1}\\right)^2} }{ \\dfrac{4}{d_w}+\\dfrac{1}{r_1} }=\\frac{d_w}{4r_1+d_w}$$"
   ]
  },
  {
   "cell_type": "code",
   "execution_count": 240,
   "metadata": {},
   "outputs": [
    {
     "name": "stdout",
     "output_type": "stream",
     "text": [
      "psi=70.548\n"
     ]
    }
   ],
   "source": [
    "psi = np.arccos(dw/(4*r1+dw))*180/np.pi\n",
    "print(\"psi=%.3f\"%psi)"
   ]
  },
  {
   "cell_type": "code",
   "execution_count": 241,
   "metadata": {},
   "outputs": [
    {
     "name": "stdout",
     "output_type": "stream",
     "text": [
      "a=0.538mm b=0.335mm\n",
      "P0=8366 MPa\n"
     ]
    }
   ],
   "source": [
    "m = 1.2851\n",
    "n = 0.7999\n",
    "r = 0.9726\n",
    "s = 1.0279\n",
    "a = m*( 3/4*(P*Rm)/Em )**(1/3)\n",
    "b = (n/m)*a\n",
    "P0 = (3*P)/(2*np.pi*a*b)\n",
    "print(\"a=%.3fmm b=%.3fmm\"%(a,b))\n",
    "print(\"P0=%.f MPa\"%P0)"
   ]
  },
  {
   "cell_type": "code",
   "execution_count": 242,
   "metadata": {},
   "outputs": [
    {
     "name": "stdout",
     "output_type": "stream",
     "text": [
      "b/a=0.622\n"
     ]
    }
   ],
   "source": [
    "print(\"b/a=%.3f\"%(b/a))"
   ]
  },
  {
   "cell_type": "markdown",
   "metadata": {},
   "source": [
    "Tableau p27 -> : $\\tau_\\text{Max}/P_0=$0.323"
   ]
  },
  {
   "cell_type": "code",
   "execution_count": 243,
   "metadata": {},
   "outputs": [
    {
     "name": "stdout",
     "output_type": "stream",
     "text": [
      "Tau_max=2702 MPa\n"
     ]
    }
   ],
   "source": [
    "Tau_max = 0.323*P0\n",
    "print(\"Tau_max=%.f MPa\"%Tau_max)"
   ]
  },
  {
   "cell_type": "markdown",
   "metadata": {},
   "source": [
    "### 8/ Profondeur de fissuration due aux passages des billes :"
   ]
  },
  {
   "cell_type": "markdown",
   "metadata": {},
   "source": [
    "Dans ce cas on prendra la charge à la limite d'endurance $P_u$, charge à partie de laquelle la fatigue peut apparaître :\n",
    "$$P=\\frac{P_u}{Z}$$\n",
    "Il faut recalculer $a$ et $b$ :"
   ]
  },
  {
   "cell_type": "code",
   "execution_count": 244,
   "metadata": {},
   "outputs": [
    {
     "name": "stdout",
     "output_type": "stream",
     "text": [
      "b/a=0.622\n"
     ]
    }
   ],
   "source": [
    "P  = Pu/Z\n",
    "a = m*((3*P*Rm)/(4*Em))**(1/3)\n",
    "b = (n/m)*a\n",
    "print(\"b/a=%.3f\"%(b/a))"
   ]
  },
  {
   "cell_type": "markdown",
   "metadata": {},
   "source": [
    "Graphique p 26 du cours, pour $e=b/a=0.622$, profondeur $\\simeq0.6b$"
   ]
  },
  {
   "cell_type": "code",
   "execution_count": 245,
   "metadata": {},
   "outputs": [
    {
     "name": "stdout",
     "output_type": "stream",
     "text": [
      "Profondeur= 0.067 mm\n"
     ]
    }
   ],
   "source": [
    "print(\"Profondeur= %.3f mm\"%(0.6*b))"
   ]
  },
  {
   "cell_type": "markdown",
   "metadata": {},
   "source": [
    "### 9/ Expression rapprochement entre les 2 bagues :"
   ]
  },
  {
   "cell_type": "markdown",
   "metadata": {},
   "source": [
    "$$\\delta = r\\frac{3}{4}\\frac{F}{E^*a}\\quad a=m\\left(\\frac{3FR^*}{4E^*}\\right)^{(1/3)}\\Rightarrow \\frac{1}{a}=\\frac{1}{m}\\left(\\frac{4E^*}{3FR^*}\\right)^{(1/3)}$$"
   ]
  },
  {
   "cell_type": "markdown",
   "metadata": {},
   "source": [
    "$$\\delta=\\frac{3r}{4m} \\left(\\frac{4}{3R^*}\\right)^{1/3}\\frac{1}{{E^*}^{2/3}}F^{2/3}$$"
   ]
  },
  {
   "cell_type": "code",
   "execution_count": 235,
   "metadata": {},
   "outputs": [
    {
     "data": {
      "text/plain": [
       "<matplotlib.legend.Legend at 0x11c354b50>"
      ]
     },
     "execution_count": 235,
     "metadata": {},
     "output_type": "execute_result"
    },
    {
     "data": {
      "image/png": "[encoded data removed]",
      "text/plain": [
       "<Figure size 864x432 with 1 Axes>"
      ]
     },
     "metadata": {
      "needs_background": "light"
     },
     "output_type": "display_data"
    }
   ],
   "source": [
    "Kb = ((3*r)/(4*m))*(4/(3*Rm))**(1/3)/(Em**(2/3))\n",
    "F = np.linspace(0,C0,100)\n",
    "nb=2/3\n",
    "deltab = Kb*(F**nb)\n",
    "deltar = Kr*(F**nr)\n",
    "plt.figure(figsize=(12,6))\n",
    "plt.plot(F,deltab,'r-')\n",
    "plt.plot(F,deltar,'b-')\n",
    "plt.grid('on')\n",
    "plt.legend(('Billes','Rouleaux'))"
   ]
  }
 ],
 "metadata": {
  "kernelspec": {
   "display_name": "Python 3",
   "language": "python",
   "name": "python3"
  },
  "language_info": {
   "codemirror_mode": {
    "name": "ipython",
    "version": 3
   },
   "file_extension": ".py",
   "mimetype": "text/x-python",
   "name": "python",
   "nbconvert_exporter": "python",
   "pygments_lexer": "ipython3",
   "version": "3.7.7"
  }
 },
 "nbformat": 4,
 "nbformat_minor": 4
}
